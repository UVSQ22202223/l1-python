{
 "cells": [
  {
   "cell_type": "code",
   "execution_count": 1,
   "metadata": {},
   "outputs": [
    {
     "name": "stdout",
     "output_type": "stream",
     "text": [
      "1296 -24\n"
     ]
    }
   ],
   "source": [
    "var1=-6\n",
    "var2=4\n",
    "if (var1>0 and var2>0) or (var1<0 and var2<0) :\n",
    "    var1, var2 = var2, var1\n",
    "else :\n",
    "    a=var1\n",
    "    var1=var1**var2\n",
    "    var2=a*var2\n",
    "print(var1,var2)"
   ]
  }
 ],
 "metadata": {
  "kernelspec": {
   "display_name": "Python 3.10.4",
   "language": "python",
   "name": "python3"
  },
  "language_info": {
   "name": "python",
   "version": "3.10.4"
  },
  "orig_nbformat": 4,
  "vscode": {
   "interpreter": {
    "hash": "9f77f08aedb21dcaea2d3c88d45d65cca09b4948413bed13d4b1f91c386d674c"
   }
  }
 },
 "nbformat": 4,
 "nbformat_minor": 2
}
