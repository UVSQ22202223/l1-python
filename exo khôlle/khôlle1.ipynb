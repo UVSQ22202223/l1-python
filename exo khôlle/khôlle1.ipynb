{
 "cells": [
  {
   "cell_type": "code",
   "execution_count": 1,
   "metadata": {},
   "outputs": [
    {
     "name": "stdout",
     "output_type": "stream",
     "text": [
      "Diviseur\n"
     ]
    },
    {
     "data": {
      "text/plain": [
       "76"
      ]
     },
     "execution_count": 1,
     "metadata": {},
     "output_type": "execute_result"
    }
   ],
   "source": [
    "import random\n",
    "n=random.randint(10,99)\n",
    "a=int(input(\"choisissez un nombre entre 1 et 9\"))\n",
    "if a>1 and n%a==0 :\n",
    "    print(\"Diviseur\")\n",
    "else :\n",
    "    print(\"pas diviseur\")\n",
    "n"
   ]
  },
  {
   "cell_type": "code",
   "execution_count": 2,
   "metadata": {},
   "outputs": [
    {
     "name": "stdout",
     "output_type": "stream",
     "text": [
      "2 3\n"
     ]
    }
   ],
   "source": [
    "a=int(input(\"choisissez un nombre\"))\n",
    "b=int(input(\"choisissez un nombre\"))\n",
    "if a>b :\n",
    "    a,b=b,a\n",
    "    print(a,b)\n",
    "else :\n",
    "    print(a,b)"
   ]
  },
  {
   "cell_type": "code",
   "execution_count": 4,
   "metadata": {},
   "outputs": [
    {
     "name": "stdout",
     "output_type": "stream",
     "text": [
      "36 -12\n"
     ]
    }
   ],
   "source": [
    "var1=-6\n",
    "var2=2\n",
    "if (var1>0 and var2>0) or (var1<0 and var2<0) :\n",
    "    var1, var2 = var2, var1\n",
    "else :\n",
    "    a=var1\n",
    "    var1=var1**var2\n",
    "    var2=a*var2\n",
    "print(var1,var2)"
   ]
  },
  {
   "cell_type": "code",
   "execution_count": 27,
   "metadata": {},
   "outputs": [
    {
     "name": "stdout",
     "output_type": "stream",
     "text": [
      "1\n"
     ]
    }
   ],
   "source": [
    "a=78\n",
    "b=97\n",
    "pgcd=1\n",
    "for i in range(1,min(a,b)) :\n",
    "    if a%i==0 and b%i==0 :\n",
    "        pgcd=i\n",
    "print(pgcd)"
   ]
  },
  {
   "cell_type": "code",
   "execution_count": 15,
   "metadata": {},
   "outputs": [
    {
     "name": "stdout",
     "output_type": "stream",
     "text": [
      "249\n"
     ]
    }
   ],
   "source": [
    "n=int(input(\"Quel est l'âge de l'enfant ?\"))\n",
    "compte_banque=0\n",
    "for i in range (1,n+1) :\n",
    "    compte_banque=compte_banque+120+3*i\n",
    "print(compte_banque)\n"
   ]
  },
  {
   "cell_type": "code",
   "execution_count": 19,
   "metadata": {},
   "outputs": [
    {
     "name": "stdout",
     "output_type": "stream",
     "text": [
      "19\n",
      "18\n",
      "17\n",
      "16\n",
      "15\n",
      "14\n",
      "13\n",
      "12\n",
      "11\n",
      "10\n"
     ]
    }
   ],
   "source": [
    "n=int(input(\"choisissez un nombre\"))\n",
    "i=1\n",
    "while i<=10 :\n",
    "    i+=1\n",
    "    n=n-1\n",
    "    print(n)\n"
   ]
  },
  {
   "cell_type": "code",
   "execution_count": 15,
   "metadata": {},
   "outputs": [
    {
     "name": "stdout",
     "output_type": "stream",
     "text": [
      "fromage et dessert\n"
     ]
    }
   ],
   "source": [
    "saint_nectaire=True\n",
    "salers=False\n",
    "pompe_aux_pommes=True\n",
    "guenilles=False\n",
    "if (saint_nectaire or salers) and (pompe_aux_pommes or guenilles) :\n",
    "    print(\"fromage et dessert\")\n",
    "else :\n",
    "    print(\"fromage ou dessert\")\n"
   ]
  },
  {
   "cell_type": "code",
   "execution_count": 5,
   "metadata": {},
   "outputs": [
    {
     "name": "stdout",
     "output_type": "stream",
     "text": [
      "55000000 55160153.67592249 35\n"
     ]
    }
   ],
   "source": [
    "P1=20000000\n",
    "P2=10000000\n",
    "annees=0\n",
    "while P2<P1 :\n",
    "    annees+=1\n",
    "    P1+=1000000\n",
    "    P2=P2+(5*P2)/100\n",
    "print(P1,P2,annees)\n"
   ]
  },
  {
   "cell_type": "code",
   "execution_count": 14,
   "metadata": {},
   "outputs": [
    {
     "data": {
      "text/plain": [
       "'JADE'"
      ]
     },
     "execution_count": 14,
     "metadata": {},
     "output_type": "execute_result"
    }
   ],
   "source": [
    "a=\"jade\"\n",
    "a.upper()"
   ]
  },
  {
   "cell_type": "code",
   "execution_count": 2,
   "metadata": {},
   "outputs": [
    {
     "name": "stdout",
     "output_type": "stream",
     "text": [
      "5 2\n"
     ]
    }
   ],
   "source": [
    "a,b=0,1\n",
    "for i in range(0,5):\n",
    "    a+=1\n",
    "    if a%3!=0:\n",
    "        continue\n",
    "    b*=2\n",
    "print(a,b)"
   ]
  },
  {
   "cell_type": "code",
   "execution_count": 30,
   "metadata": {},
   "outputs": [
    {
     "data": {
      "text/plain": [
       "11.5"
      ]
     },
     "execution_count": 30,
     "metadata": {},
     "output_type": "execute_result"
    }
   ],
   "source": [
    "13-(0.3*5)"
   ]
  },
  {
   "cell_type": "code",
   "execution_count": 4,
   "metadata": {},
   "outputs": [
    {
     "name": "stdout",
     "output_type": "stream",
     "text": [
      "jours heure minutes seconde\n"
     ]
    }
   ],
   "source": [
    "temps=(2,1,4,1)\n",
    "if temps[0]>1 :\n",
    "        f=\"jours\"\n",
    "elif temps[0]==1 :\n",
    "        f=\"jour\"\n",
    "if temps[1]>1 :\n",
    "        g=\"heures\"\n",
    "elif temps[1]==1 :\n",
    "        g=\"heure\"\n",
    "if temps[2]>1 :\n",
    "        h=\"minutes\"\n",
    "elif temps[2]==1 :\n",
    "        h=\"minute\"\n",
    "if temps[3]>1 :\n",
    "        i=\"seconde\"\n",
    "elif temps[3]==1 :\n",
    "        i=\"seconde\"\n",
    "print(f,g,h,i)"
   ]
  }
 ],
 "metadata": {
  "kernelspec": {
   "display_name": "Python 3.10.4",
   "language": "python",
   "name": "python3"
  },
  "language_info": {
   "codemirror_mode": {
    "name": "ipython",
    "version": 3
   },
   "file_extension": ".py",
   "mimetype": "text/x-python",
   "name": "python",
   "nbconvert_exporter": "python",
   "pygments_lexer": "ipython3",
   "version": "3.10.4"
  },
  "orig_nbformat": 4,
  "vscode": {
   "interpreter": {
    "hash": "9f77f08aedb21dcaea2d3c88d45d65cca09b4948413bed13d4b1f91c386d674c"
   }
  }
 },
 "nbformat": 4,
 "nbformat_minor": 2
}
