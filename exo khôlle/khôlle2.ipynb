{
 "cells": [
  {
   "cell_type": "code",
   "execution_count": 3,
   "metadata": {},
   "outputs": [
    {
     "name": "stdout",
     "output_type": "stream",
     "text": [
      "2\n"
     ]
    }
   ],
   "source": [
    "l=[264,9,0,6,53]\n",
    "a=45\n",
    "def nbentiersup (list, nombre) :\n",
    "    n=len(list)\n",
    "    f=[]\n",
    "    for i in range (0,n) :\n",
    "        if list[i]>nombre :\n",
    "             f.append(list[i])\n",
    "        else :\n",
    "            continue\n",
    "    return len(f)\n",
    "\n",
    "print(nbentiersup(l,a))"
   ]
  },
  {
   "cell_type": "code",
   "execution_count": 38,
   "metadata": {},
   "outputs": [
    {
     "name": "stdout",
     "output_type": "stream",
     "text": [
      "[9, 8, 7, 6, 5, 4, 3, 2, 1, 1, 2, 3, 4, 5, 6, 7, 8, 9]\n",
      "[9, 8, 7, 6, 5, 4, 3, 2, 1]\n"
     ]
    }
   ],
   "source": [
    "l=[1,2,3,4,5,6,7,8,9]\n",
    "n=len(l)\n",
    "for i in range (0,n) :\n",
    "    l.insert(i,l[n-1])\n",
    "print(l)\n",
    "for i in range (0,n):\n",
    "    del l[-1]\n",
    "\n",
    "print (l)"
   ]
  },
  {
   "cell_type": "code",
   "execution_count": 47,
   "metadata": {},
   "outputs": [
    {
     "name": "stdout",
     "output_type": "stream",
     "text": [
      "False\n"
     ]
    }
   ],
   "source": [
    "a=2\n",
    "b=96\n",
    "def division(nombre1,nombre2) :\n",
    "    return nombre2%nombre1==0\n",
    "print(division(a,b))"
   ]
  },
  {
   "cell_type": "code",
   "execution_count": 57,
   "metadata": {},
   "outputs": [
    {
     "name": "stdout",
     "output_type": "stream",
     "text": [
      "['O', 1, 'L', 2, 'L', 2, 'E', 1, 'H', 1]\n"
     ]
    }
   ],
   "source": [
    "a =\"HELLO\"\n",
    "l=[]\n",
    "s=[]\n",
    "def occurrence(mot) :\n",
    "    for i in range (0,len(mot)) :\n",
    "        s.insert(0,mot.count(mot[i])) \n",
    "        s.insert(0,mot[i])\n",
    "        l.\n",
    "    \n",
    "    return l\n",
    "\n",
    "print(occurrence(a))"
   ]
  }
 ],
 "metadata": {
  "kernelspec": {
   "display_name": "Python 3.10.4",
   "language": "python",
   "name": "python3"
  },
  "language_info": {
   "codemirror_mode": {
    "name": "ipython",
    "version": 3
   },
   "file_extension": ".py",
   "mimetype": "text/x-python",
   "name": "python",
   "nbconvert_exporter": "python",
   "pygments_lexer": "ipython3",
   "version": "3.10.4"
  },
  "orig_nbformat": 4,
  "vscode": {
   "interpreter": {
    "hash": "9f77f08aedb21dcaea2d3c88d45d65cca09b4948413bed13d4b1f91c386d674c"
   }
  }
 },
 "nbformat": 4,
 "nbformat_minor": 2
}
