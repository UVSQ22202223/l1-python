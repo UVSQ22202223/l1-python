{
 "cells": [
  {
   "cell_type": "code",
   "execution_count": 3,
   "metadata": {},
   "outputs": [
    {
     "name": "stdout",
     "output_type": "stream",
     "text": [
      "2\n"
     ]
    }
   ],
   "source": [
    "l=[264,9,0,6,53]\n",
    "a=45\n",
    "def nbentiersup (list, nombre) :\n",
    "    n=len(list)\n",
    "    f=[]\n",
    "    for i in range (0,n) :\n",
    "        if list[i]>nombre :\n",
    "             f.append(list[i])\n",
    "        else :\n",
    "            continue\n",
    "    return len(f)\n",
    "\n",
    "print(nbentiersup(l,a))"
   ]
  },
  {
   "cell_type": "code",
   "execution_count": 38,
   "metadata": {},
   "outputs": [
    {
     "name": "stdout",
     "output_type": "stream",
     "text": [
      "[9, 8, 7, 6, 5, 4, 3, 2, 1, 1, 2, 3, 4, 5, 6, 7, 8, 9]\n",
      "[9, 8, 7, 6, 5, 4, 3, 2, 1]\n"
     ]
    }
   ],
   "source": [
    "l=[1,2,3,4,5,6,7,8,9]\n",
    "n=len(l)\n",
    "for i in range (0,n) :\n",
    "    l.insert(i,l[n-1])\n",
    "print(l)\n",
    "for i in range (0,n):\n",
    "    del l[-1]\n",
    "\n",
    "print (l)"
   ]
  },
  {
   "cell_type": "code",
   "execution_count": 47,
   "metadata": {},
   "outputs": [
    {
     "name": "stdout",
     "output_type": "stream",
     "text": [
      "False\n"
     ]
    }
   ],
   "source": [
    "a=2\n",
    "b=96\n",
    "def division(nombre1,nombre2) :\n",
    "    return nombre2%nombre1==0\n",
    "print(division(a,b))"
   ]
  },
  {
   "cell_type": "code",
   "execution_count": 6,
   "metadata": {},
   "outputs": [
    {
     "name": "stdout",
     "output_type": "stream",
     "text": [
      "['H', 1, 'E', 1, 'L', 2, 'L', 2, 'O', 1]\n"
     ]
    }
   ],
   "source": [
    "a =\"HELLO\"\n",
    "l=[]\n",
    "s=[]\n",
    "def occurrence(mot) :\n",
    "    for i in range (0,len(mot)) :\n",
    "        s.insert(0,mot.count(mot[i])) \n",
    "        s.insert(0,mot[i])\n",
    "        l.extend([mot[i],mot.count(mot[i])])\n",
    "    \n",
    "    return l\n",
    "\n",
    "print(occurrence(a))"
   ]
  },
  {
   "cell_type": "code",
   "execution_count": null,
   "metadata": {},
   "outputs": [],
   "source": [
    "import random\n",
    "l=[[0,0,0,0,0,0,0],[0,0,0,0,0,0,0],[0,0,0,0,0,0,0],[0,0,0,0,0,0,0],[0,0,0,0,0,0,0],[0,0,0,0,0,0,0],[0,0,0,0,0,0,0]]\n",
    "def aleatoire(carre):\n",
    "    a=random.randint(0,7)\n",
    "    b=random.randint(0,7)\n",
    "    list[a][b]=1\n",
    "    return  l\n",
    "\n",
    "print(aleatoire(l))"
   ]
  },
  {
   "cell_type": "code",
   "execution_count": 13,
   "metadata": {},
   "outputs": [
    {
     "name": "stdout",
     "output_type": "stream",
     "text": [
      "[23, 23, 54]\n"
     ]
    }
   ],
   "source": [
    "l=[23,23,0,54,0]\n",
    "def nulle(liste) :\n",
    "    a=len(l)\n",
    "    for i in range (0,a-1) :\n",
    "        if l[i]==0 :\n",
    "            l.remove(l[i])\n",
    "        else :\n",
    "            continue\n",
    "    \n",
    "    return l\n",
    "\n",
    "print(nulle(l))\n"
   ]
  },
  {
   "cell_type": "code",
   "execution_count": 21,
   "metadata": {},
   "outputs": [
    {
     "name": "stdout",
     "output_type": "stream",
     "text": [
      "01.43.64.00.00\n"
     ]
    }
   ],
   "source": [
    "base=[\"Leonhard\", \"Euler\",\"01.43.64.00.00\"]\n",
    "def quel_numero(base,nom_famille):\n",
    "    if len(base)==3 :\n",
    "        return base[2]\n",
    "    else :\n",
    "        return -1\n",
    "print(quel_numero(base))"
   ]
  },
  {
   "cell_type": "code",
   "execution_count": 22,
   "metadata": {},
   "outputs": [
    {
     "name": "stdout",
     "output_type": "stream",
     "text": [
      "Leonhard\n"
     ]
    }
   ],
   "source": [
    "base=[\"Leonhard\", \"Euler\",\"01.43.64.00.00\"]\n",
    "def quel_nom (base) :\n",
    "    if len(base)==3 :\n",
    "        return str(base[0])\n",
    "    else :\n",
    "        return \"XXX\"\n",
    "print(quel_nom(base))"
   ]
  }
 ],
 "metadata": {
  "kernelspec": {
   "display_name": "Python 3.10.4",
   "language": "python",
   "name": "python3"
  },
  "language_info": {
   "codemirror_mode": {
    "name": "ipython",
    "version": 3
   },
   "file_extension": ".py",
   "mimetype": "text/x-python",
   "name": "python",
   "nbconvert_exporter": "python",
   "pygments_lexer": "ipython3",
   "version": "3.10.4"
  },
  "orig_nbformat": 4,
  "vscode": {
   "interpreter": {
    "hash": "9f77f08aedb21dcaea2d3c88d45d65cca09b4948413bed13d4b1f91c386d674c"
   }
  }
 },
 "nbformat": 4,
 "nbformat_minor": 2
}
